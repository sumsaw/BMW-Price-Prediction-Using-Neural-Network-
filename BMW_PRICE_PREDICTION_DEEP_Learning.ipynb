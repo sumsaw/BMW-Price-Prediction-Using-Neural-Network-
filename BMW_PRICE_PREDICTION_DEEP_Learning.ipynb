{
 "cells": [
  {
   "cell_type": "markdown",
   "metadata": {},
   "source": [
    "Hello All ,\n",
    "\n",
    "When I moved to Canada couple of years back I was looking to buy a pre-owned/pre-certified car. However, I use the feel the prices quoted by the dealers to be very high for a decent car. The prices which used to be quoted always use to beat my prediction by 2-3K . Also since I am mechanical engineer who also happen to work in the automotive domain I always use to wonder what factors influence the price of a pre-certified car. With this dataset I got an chance to predict just that . I am sure many more people face the same question . I hope this data analysis and subsequent deep learning prediction model can help them . \n",
    "\n",
    "\n",
    "The data set contains the following column\n",
    "\n",
    "maker_key-         The brand of the car\t\n",
    "model_key-         The model of the car\t\n",
    "mileage\t  -        Total miles driven \n",
    "engine_power -     Engine capacity\t\n",
    "registration_date- Date car was registered \t\n",
    "fuel\t-          Type of fuel ( diesel, petrol,..)\n",
    "paint_color\t-       The color of the car \n",
    "car_type-           The type of car ( sedan ,SUV,..)\t\n",
    "feature_1\t        Some features which the company wants to explore \n",
    "feature_2\t\n",
    "feature_3\t\n",
    "feature_4\t\n",
    "feature_5\t\n",
    "feature_6\t\n",
    "feature_7\t\n",
    "feature_8\t\n",
    "price\t-          The price at which it was auctioned \n",
    "sold_at-           The date at which it was sold at \n",
    "\n"
   ]
  },
  {
   "cell_type": "code",
   "execution_count": 2,
   "metadata": {
    "_cell_guid": "b1076dfc-b9ad-4769-8c92-a6c4dae69d19",
    "_uuid": "8f2839f25d086af736a60e9eeb907d3b93b6e0e5"
   },
   "outputs": [],
   "source": [
    "\n",
    "import numpy as np # linear algebra\n",
    "import pandas as pd# data processing, CSV file I/O (e.g. pd.read_csv)\n",
    "import matplotlib.pyplot as plt \n",
    "import seaborn as sns\n",
    "sns.set_style('whitegrid')\n",
    "import os\n",
    "%matplotlib inline \n",
    "\n",
    "#Importing Deep Learning Modules \n",
    "from sklearn.model_selection import train_test_split\n",
    "from sklearn.preprocessing import StandardScaler\n",
    "\n",
    "\n",
    "for dirname, _, filenames in os.walk('/kaggle/input'):\n",
    "    for filename in filenames:\n",
    "        print(os.path.join(dirname, filename))"
   ]
  },
  {
   "cell_type": "code",
   "execution_count": null,
   "metadata": {
    "_cell_guid": "79c7e3d0-c299-4dcb-8224-4455121ee9b0",
    "_uuid": "d629ff2d2480ee46fbb7e2d37f6b5fab8052498a"
   },
   "outputs": [],
   "source": [
    "#import the csv file as a pandas dataframe \n",
    "#data = pd.read_csv('/kaggle/input/bmw-pricing-challenge/bmw_pricing_challenge.csv')"
   ]
  },
  {
   "cell_type": "code",
   "execution_count": 3,
   "metadata": {},
   "outputs": [],
   "source": [
    "data = pd.read_csv('./bmw_pricing_challenge.csv')"
   ]
  },
  {
   "cell_type": "code",
   "execution_count": 4,
   "metadata": {},
   "outputs": [
    {
     "data": {
      "text/html": [
       "<div>\n",
       "<style scoped>\n",
       "    .dataframe tbody tr th:only-of-type {\n",
       "        vertical-align: middle;\n",
       "    }\n",
       "\n",
       "    .dataframe tbody tr th {\n",
       "        vertical-align: top;\n",
       "    }\n",
       "\n",
       "    .dataframe thead th {\n",
       "        text-align: right;\n",
       "    }\n",
       "</style>\n",
       "<table border=\"1\" class=\"dataframe\">\n",
       "  <thead>\n",
       "    <tr style=\"text-align: right;\">\n",
       "      <th></th>\n",
       "      <th>maker_key</th>\n",
       "      <th>model_key</th>\n",
       "      <th>mileage</th>\n",
       "      <th>engine_power</th>\n",
       "      <th>registration_date</th>\n",
       "      <th>fuel</th>\n",
       "      <th>paint_color</th>\n",
       "      <th>car_type</th>\n",
       "      <th>feature_1</th>\n",
       "      <th>feature_2</th>\n",
       "      <th>feature_3</th>\n",
       "      <th>feature_4</th>\n",
       "      <th>feature_5</th>\n",
       "      <th>feature_6</th>\n",
       "      <th>feature_7</th>\n",
       "      <th>feature_8</th>\n",
       "      <th>price</th>\n",
       "      <th>sold_at</th>\n",
       "    </tr>\n",
       "  </thead>\n",
       "  <tbody>\n",
       "    <tr>\n",
       "      <th>0</th>\n",
       "      <td>BMW</td>\n",
       "      <td>118</td>\n",
       "      <td>140411</td>\n",
       "      <td>100</td>\n",
       "      <td>2012-02-01</td>\n",
       "      <td>diesel</td>\n",
       "      <td>black</td>\n",
       "      <td>convertible</td>\n",
       "      <td>True</td>\n",
       "      <td>True</td>\n",
       "      <td>False</td>\n",
       "      <td>False</td>\n",
       "      <td>True</td>\n",
       "      <td>True</td>\n",
       "      <td>True</td>\n",
       "      <td>False</td>\n",
       "      <td>11300</td>\n",
       "      <td>2018-01-01</td>\n",
       "    </tr>\n",
       "    <tr>\n",
       "      <th>1</th>\n",
       "      <td>BMW</td>\n",
       "      <td>M4</td>\n",
       "      <td>13929</td>\n",
       "      <td>317</td>\n",
       "      <td>2016-04-01</td>\n",
       "      <td>petrol</td>\n",
       "      <td>grey</td>\n",
       "      <td>convertible</td>\n",
       "      <td>True</td>\n",
       "      <td>True</td>\n",
       "      <td>False</td>\n",
       "      <td>False</td>\n",
       "      <td>False</td>\n",
       "      <td>True</td>\n",
       "      <td>True</td>\n",
       "      <td>True</td>\n",
       "      <td>69700</td>\n",
       "      <td>2018-02-01</td>\n",
       "    </tr>\n",
       "    <tr>\n",
       "      <th>2</th>\n",
       "      <td>BMW</td>\n",
       "      <td>320</td>\n",
       "      <td>183297</td>\n",
       "      <td>120</td>\n",
       "      <td>2012-04-01</td>\n",
       "      <td>diesel</td>\n",
       "      <td>white</td>\n",
       "      <td>convertible</td>\n",
       "      <td>False</td>\n",
       "      <td>False</td>\n",
       "      <td>False</td>\n",
       "      <td>False</td>\n",
       "      <td>True</td>\n",
       "      <td>False</td>\n",
       "      <td>True</td>\n",
       "      <td>False</td>\n",
       "      <td>10200</td>\n",
       "      <td>2018-02-01</td>\n",
       "    </tr>\n",
       "    <tr>\n",
       "      <th>3</th>\n",
       "      <td>BMW</td>\n",
       "      <td>420</td>\n",
       "      <td>128035</td>\n",
       "      <td>135</td>\n",
       "      <td>2014-07-01</td>\n",
       "      <td>diesel</td>\n",
       "      <td>red</td>\n",
       "      <td>convertible</td>\n",
       "      <td>True</td>\n",
       "      <td>True</td>\n",
       "      <td>False</td>\n",
       "      <td>False</td>\n",
       "      <td>True</td>\n",
       "      <td>True</td>\n",
       "      <td>True</td>\n",
       "      <td>True</td>\n",
       "      <td>25100</td>\n",
       "      <td>2018-02-01</td>\n",
       "    </tr>\n",
       "    <tr>\n",
       "      <th>4</th>\n",
       "      <td>BMW</td>\n",
       "      <td>425</td>\n",
       "      <td>97097</td>\n",
       "      <td>160</td>\n",
       "      <td>2014-12-01</td>\n",
       "      <td>diesel</td>\n",
       "      <td>silver</td>\n",
       "      <td>convertible</td>\n",
       "      <td>True</td>\n",
       "      <td>True</td>\n",
       "      <td>False</td>\n",
       "      <td>False</td>\n",
       "      <td>False</td>\n",
       "      <td>True</td>\n",
       "      <td>True</td>\n",
       "      <td>True</td>\n",
       "      <td>33400</td>\n",
       "      <td>2018-04-01</td>\n",
       "    </tr>\n",
       "  </tbody>\n",
       "</table>\n",
       "</div>"
      ],
      "text/plain": [
       "  maker_key model_key  mileage  engine_power registration_date    fuel  \\\n",
       "0       BMW       118   140411           100        2012-02-01  diesel   \n",
       "1       BMW        M4    13929           317        2016-04-01  petrol   \n",
       "2       BMW       320   183297           120        2012-04-01  diesel   \n",
       "3       BMW       420   128035           135        2014-07-01  diesel   \n",
       "4       BMW       425    97097           160        2014-12-01  diesel   \n",
       "\n",
       "  paint_color     car_type  feature_1  feature_2  feature_3  feature_4  \\\n",
       "0       black  convertible       True       True      False      False   \n",
       "1        grey  convertible       True       True      False      False   \n",
       "2       white  convertible      False      False      False      False   \n",
       "3         red  convertible       True       True      False      False   \n",
       "4      silver  convertible       True       True      False      False   \n",
       "\n",
       "   feature_5  feature_6  feature_7  feature_8  price     sold_at  \n",
       "0       True       True       True      False  11300  2018-01-01  \n",
       "1      False       True       True       True  69700  2018-02-01  \n",
       "2       True      False       True      False  10200  2018-02-01  \n",
       "3       True       True       True       True  25100  2018-02-01  \n",
       "4      False       True       True       True  33400  2018-04-01  "
      ]
     },
     "execution_count": 4,
     "metadata": {},
     "output_type": "execute_result"
    }
   ],
   "source": [
    "data.head()"
   ]
  },
  {
   "cell_type": "code",
   "execution_count": null,
   "metadata": {},
   "outputs": [],
   "source": [
    "data.shape\n",
    "\n",
    "# We have 4843 rows and 18 columns "
   ]
  },
  {
   "cell_type": "code",
   "execution_count": null,
   "metadata": {},
   "outputs": [],
   "source": [
    "# We have no missing values in any of the columns \n",
    "data.isnull().sum()"
   ]
  },
  {
   "cell_type": "code",
   "execution_count": null,
   "metadata": {},
   "outputs": [],
   "source": [
    "data.describe()\n",
    "\n",
    "# We see that the range of price variable is pretty large but most of the cars sold lie between 10,000 to 19000 price range \n",
    "#The minimum value  of mileage does not makes sense .Inter quartile for mileage is 100,000 to 175,000\n",
    "# In engine we have sold cars having no engine to have 423HP cars "
   ]
  },
  {
   "cell_type": "code",
   "execution_count": null,
   "metadata": {},
   "outputs": [],
   "source": [
    "\n",
    "#Checking the Data types for each column \n",
    "data.dtypes"
   ]
  },
  {
   "cell_type": "code",
   "execution_count": null,
   "metadata": {},
   "outputs": [],
   "source": [
    "# All data types correct apart from sold_at and registration_data they need to be datatime \n",
    "\n",
    "data['registration_date']=pd.to_datetime(data['registration_date'])\n",
    "data['sold_at']=pd.to_datetime(data['sold_at'])\n"
   ]
  },
  {
   "cell_type": "code",
   "execution_count": null,
   "metadata": {},
   "outputs": [],
   "source": [
    "data[data['mileage']<0]"
   ]
  },
  {
   "cell_type": "code",
   "execution_count": null,
   "metadata": {},
   "outputs": [],
   "source": [
    "#correcting the mileage value \n",
    "\n",
    "data.set_value(2938, 'mileage', 64)\n"
   ]
  },
  {
   "cell_type": "code",
   "execution_count": null,
   "metadata": {},
   "outputs": [],
   "source": [
    "data[data['mileage']==64]"
   ]
  },
  {
   "cell_type": "markdown",
   "metadata": {},
   "source": [
    "**Let explonatory analysis on this dataset so as to know the dataset better \n",
    "**\n",
    "\n"
   ]
  },
  {
   "cell_type": "code",
   "execution_count": null,
   "metadata": {},
   "outputs": [],
   "source": [
    "plt.figure(figsize=(8,8))\n",
    "base_color=sns.color_palette()[8]\n",
    "sns.countplot(data=data, x='fuel',color=base_color)\n",
    "plt.title('Type of Fuel',fontsize=30)\n",
    "plt.ylabel('Count',fontsize=30)\n",
    "#plt.xlabel(fontsize=40)\n",
    "\n",
    "locs, labels = plt.xticks()\n",
    "\n",
    "\n",
    "# loop through each pair of locations and labels\n",
    "for loc, label in zip(locs, labels):\n",
    "\n",
    "    # get the text property for the label to get the correct count\n",
    "    count = data['fuel'].value_counts()[label.get_text()]\n",
    "    pct_string = '{:}'.format(count)\n",
    "\n",
    "    # print the annotation just below the top of the bar\n",
    "    plt.text(loc, count+10, pct_string, ha = 'center', color = 'black',fontsize=20)"
   ]
  },
  {
   "cell_type": "markdown",
   "metadata": {},
   "source": [
    "Let see how the fuel is distributed with respect to price "
   ]
  },
  {
   "cell_type": "code",
   "execution_count": null,
   "metadata": {},
   "outputs": [],
   "source": [
    "plt.figure(figsize=(10,10))\n",
    "sns.boxplot(data=data,x='fuel',y='price',color=base_color,order=data.fuel.value_counts().index);\n",
    "plt.title('Fuel',fontsize=30)\n",
    "plt.ylabel('Price',fontsize=30)\n",
    "plt.xticks(fontsize=20,rotation=90)"
   ]
  },
  {
   "cell_type": "markdown",
   "metadata": {},
   "source": [
    "# Even though the diesel car are more in number we see that hybrid_Petrol sell at a higher price followed by diesel "
   ]
  },
  {
   "cell_type": "code",
   "execution_count": null,
   "metadata": {},
   "outputs": [],
   "source": [
    "plt.figure(figsize=(8,8))\n",
    "base_color=sns.color_palette()[8]\n",
    "sns.countplot(data=data, x='paint_color',color=base_color,order=data.paint_color.value_counts().index)\n",
    "plt.title('Paint Color',fontsize=30)\n",
    "plt.ylabel('Count',fontsize=30)\n",
    "plt.xticks(rotation=90,fontsize=20)\n",
    "\n",
    "locs, labels = plt.xticks()\n",
    "\n",
    "\n",
    "# loop through each pair of locations and labels\n",
    "for loc, label in zip(locs, labels):\n",
    "\n",
    "    # get the text property for the label to get the correct count\n",
    "    count = data['paint_color'].value_counts()[label.get_text()]\n",
    "    pct_string = '{:}'.format(count)\n",
    "\n",
    "    # print the annotation just below the top of the bar\n",
    "    plt.text(loc, count+10, pct_string, ha = 'center', color = 'black',fontsize=20)"
   ]
  },
  {
   "cell_type": "markdown",
   "metadata": {},
   "source": [
    "Not all paint colors are equally distributed in the dataset "
   ]
  },
  {
   "cell_type": "code",
   "execution_count": null,
   "metadata": {},
   "outputs": [],
   "source": [
    "#Let see how the color is related to price in the resale market . THe data is has more points for black , grey and blue\n",
    "\n",
    "plt.figure(figsize=(10,10));\n",
    "sns.violinplot(data=data,x='paint_color',y='price',inner='quartile',color=base_color);\n",
    "plt.ylabel('Price',fontsize=30);\n",
    "#plt.xlabel('Paint Color',fontsize=30);\n",
    "plt.title(\"Paint Color\",fontsize=30);\n",
    "plt.xticks(rotation=90,fontsize=20);"
   ]
  },
  {
   "cell_type": "markdown",
   "metadata": {},
   "source": [
    "We see that color is not a big factor in determining the final price of the BMW sold . As first six plot on the above graph show almost the same quartile ranges. So while fitting a neural network model I will drop the feature from the dataset "
   ]
  },
  {
   "cell_type": "code",
   "execution_count": null,
   "metadata": {},
   "outputs": [],
   "source": [
    "\n",
    "plt.figure(figsize=(8,8))\n",
    "base_color=sns.color_palette()[8]\n",
    "sns.countplot(data=data, x='car_type',color=base_color,order=data.car_type.value_counts().index)\n",
    "plt.title('Car Type',fontsize=30)\n",
    "plt.ylabel('Count',fontsize=30)\n",
    "plt.xticks(rotation=90,fontsize=20)\n",
    "\n",
    "locs, labels = plt.xticks()\n",
    "\n",
    "\n",
    "# loop through each pair of locations and labels\n",
    "for loc, label in zip(locs, labels):\n",
    "\n",
    "    # get the text property for the label to get the correct count\n",
    "    count = data['car_type'].value_counts()[label.get_text()]\n",
    "    pct_string = '{:}'.format(count)\n",
    "\n",
    "    # print the annotation just below the top of the bar\n",
    "    plt.text(loc, count+10, pct_string, ha = 'center', color = 'black',fontsize=20)"
   ]
  },
  {
   "cell_type": "markdown",
   "metadata": {},
   "source": [
    "Lets see how each car types stacks up against price"
   ]
  },
  {
   "cell_type": "code",
   "execution_count": null,
   "metadata": {},
   "outputs": [],
   "source": [
    "plt.figure(figsize=(10,10))\n",
    "sns.boxplot(data=data,x='car_type',y='price',color=base_color,order=data.car_type.value_counts().index);\n",
    "plt.title('Car Type',fontsize=30)\n",
    "plt.ylabel('Price',fontsize=30)\n",
    "plt.xticks(fontsize=20,rotation=90)"
   ]
  },
  {
   "cell_type": "markdown",
   "metadata": {},
   "source": [
    "# We see that SUV and coupe show higher median price over other types "
   ]
  },
  {
   "cell_type": "code",
   "execution_count": null,
   "metadata": {},
   "outputs": [],
   "source": [
    "plt.figure(figsize=(10,10))\n",
    "sns.scatterplot(data=data,x='car_type',y='fuel',alpha=0.2,x_jitter=0.2);\n"
   ]
  },
  {
   "cell_type": "markdown",
   "metadata": {},
   "source": [
    "# I am going to add another column to the datafame called vechile_days which is the difference of time in days between registration_date and sold_at columns"
   ]
  },
  {
   "cell_type": "code",
   "execution_count": null,
   "metadata": {},
   "outputs": [],
   "source": [
    "\n",
    "#Creating a colum called as registration year \n",
    "data['registration_year']=data['registration_date'].dt.year"
   ]
  },
  {
   "cell_type": "markdown",
   "metadata": {},
   "source": [
    "# Let see how the time frame is distributed "
   ]
  },
  {
   "cell_type": "code",
   "execution_count": null,
   "metadata": {},
   "outputs": [],
   "source": [
    "plt.figure(figsize=(10,10));\n",
    "sns.countplot(data=data,x='registration_year',color=base_color);\n",
    "plt.xticks(rotation=90);\n",
    "plt.xlabel('Registration Year',fontsize=20);\n",
    "plt.ylabel('Count',fontsize=20);\n"
   ]
  },
  {
   "cell_type": "code",
   "execution_count": null,
   "metadata": {},
   "outputs": [],
   "source": [
    "data['sold_at'].dt.year.value_counts()"
   ]
  },
  {
   "cell_type": "markdown",
   "metadata": {},
   "source": [
    "# We see there is only one year for the sold at columns "
   ]
  },
  {
   "cell_type": "markdown",
   "metadata": {},
   "source": [
    "# Let see how the price changes with year "
   ]
  },
  {
   "cell_type": "code",
   "execution_count": null,
   "metadata": {},
   "outputs": [],
   "source": [
    "plt.figure(figsize=(10,10))\n",
    "sns.scatterplot(data=data.sample(2000),x='registration_year',y='price',hue='car_type');"
   ]
  },
  {
   "cell_type": "markdown",
   "metadata": {},
   "source": [
    "# We can also see which car types where brought in which year "
   ]
  },
  {
   "cell_type": "code",
   "execution_count": null,
   "metadata": {},
   "outputs": [],
   "source": [
    "data.dtypes"
   ]
  },
  {
   "cell_type": "code",
   "execution_count": null,
   "metadata": {},
   "outputs": [],
   "source": [
    "\n",
    "plt.figure(figsize=(10,15));\n",
    "#sns.regplot(x=\"car_type\",y=\"registration_date\",data=data)\n",
    "sns.scatterplot(data=data,x='car_type',y='registration_year',alpha=0.3);\n",
    "plt.xticks(rotation=90,fontsize=20);\n",
    "plt.xlabel('Car Type',fontsize=20);\n",
    "plt.xlabel('Registration Year',fontsize=20);\n",
    "plt.title('Cart_type vs Registration Year',fontsize=20);"
   ]
  },
  {
   "cell_type": "markdown",
   "metadata": {},
   "source": [
    "# We see mostly a positive corelation between the year and price "
   ]
  },
  {
   "cell_type": "code",
   "execution_count": null,
   "metadata": {},
   "outputs": [],
   "source": [
    " \n",
    "data['vechile_days']=data['sold_at']-data['registration_date']\n",
    "data['year_diff']=data['sold_at'].dt.year-data['registration_year']"
   ]
  },
  {
   "cell_type": "code",
   "execution_count": null,
   "metadata": {},
   "outputs": [],
   "source": [
    "plt.figure(figsize=(20,10))\n",
    "color=sns.color_palette()[0]\n",
    "sns.countplot(data=data,x='model_key',color=color,order=data.model_key.value_counts().index);\n",
    "plt.xticks(rotation=90);\n",
    "plt.title('Count BMW models');\n",
    "\n",
    "locs, labels = plt.xticks() # get the current tick locations and labels\n",
    "\n",
    "# add annotations\n",
    "\n",
    "\n",
    "# loop through each pair of locations and labels\n",
    "for loc, label in zip(locs, labels):\n",
    "\n",
    "    # get the text property for the label to get the correct count\n",
    "    count = data.model_key.value_counts()[label.get_text()]\n",
    "    pct_string = '{:}'.format(count)\n",
    "\n",
    "    # print the annotation just below the top of the bar\n",
    "    plt.text(loc, count+10, pct_string, ha = 'center', color = 'black')"
   ]
  },
  {
   "cell_type": "markdown",
   "metadata": {},
   "source": [
    "# We see that most car sold are 3 series like ( 320,318,X3,318) followed by 5 series "
   ]
  },
  {
   "cell_type": "code",
   "execution_count": null,
   "metadata": {},
   "outputs": [],
   "source": [
    "plt.figure(figsize=(10,10))\n",
    "color=sns.color_palette()[0]\n",
    "sns.countplot(data=data,x='car_type',color=color,order=data.car_type.value_counts().index);\n",
    "plt.xticks(rotation=90,fontsize=20);\n",
    "plt.title('Type BMW models',fontsize=20);\n",
    "plt.ylabel('Count',fontsize=20);\n",
    "plt.xlabel(\"CarType\")"
   ]
  },
  {
   "cell_type": "markdown",
   "metadata": {},
   "source": [
    "# We see that most cars sold are estate followed by sedans and suv"
   ]
  },
  {
   "cell_type": "code",
   "execution_count": null,
   "metadata": {},
   "outputs": [],
   "source": [
    "plt.hist(data=data,x='engine_power',bins=5);\n",
    "plt.xlabel('Engine Capacity',fontsize=20);\n",
    "plt.title('Histogram of Engine Capacity');\n",
    "plt.ylabel('Number of Engines')"
   ]
  },
  {
   "cell_type": "markdown",
   "metadata": {},
   "source": [
    "# Most cars are between 100 and 150 HP "
   ]
  },
  {
   "cell_type": "code",
   "execution_count": null,
   "metadata": {},
   "outputs": [],
   "source": [
    "plt.figure(figsize=(10,10))\n",
    "bin_edges = 10 ** np.arange(np.log10(data.price.min()), np.log10(data.price.max())+0.1, 0.1);\n",
    "plt.hist(data=data,x='price',bins=bin_edges);\n",
    "plt.xscale('log');\n",
    "tick_locs = [10, 30, 100, 300, 1000, 3000,10000,130000];\n",
    "ticks=np.arange(100,1300,100);\n",
    "plt.xticks(tick_locs, tick_locs);\n",
    "plt.yticks(ticks,ticks)\n",
    "plt.xlabel('Price cars sold at');\n",
    "plt.title('Price Distribution');\n",
    "plt.ylabel('Count');"
   ]
  },
  {
   "cell_type": "code",
   "execution_count": null,
   "metadata": {},
   "outputs": [],
   "source": [
    "data.head()"
   ]
  },
  {
   "cell_type": "markdown",
   "metadata": {},
   "source": [
    "# Let see how mileage and price relate \n"
   ]
  },
  {
   "cell_type": "code",
   "execution_count": null,
   "metadata": {},
   "outputs": [],
   "source": [
    "# Here I am only plotting a subsample of the data ( 1500 points ) to prevent over crowding . But we can see a some what negative trend in price as mileage increase \n",
    "\n",
    "plt.figure(figsize=(10,10));\n",
    "sns.scatterplot(data=data.sample(1500),x='mileage',y='price',alpha=0.8,hue='car_type');\n",
    "plt.xlim(0,500000)\n",
    "plt.ylim(0,100000)\n",
    "plt.xlabel('Mileage',fontsize=20);\n",
    "plt.ylabel('Price',fontsize=20);\n",
    "plt.title('Mileage vs Price vs Car_type',fontsize=20);"
   ]
  },
  {
   "cell_type": "markdown",
   "metadata": {},
   "source": [
    "# For similar mileage we see that SUV command higher price and hatchbacks among the lowest\n"
   ]
  },
  {
   "cell_type": "markdown",
   "metadata": {},
   "source": [
    "plt.figure(figsize=(10,10));\n",
    "sns.scatterplot(data=data.sample(2500),x='mileage',y='price',alpha=0.8,hue='registration_year');\n",
    "plt.xlim(0,500000)\n",
    "plt.ylim(0,100000)\n",
    "plt.xlabel('Mileage',fontsize=20);\n",
    "plt.ylabel('Price',fontsize=20);\n",
    "plt.title('Mileage vs Price vs Year',fontsize=20);\n"
   ]
  },
  {
   "cell_type": "code",
   "execution_count": null,
   "metadata": {},
   "outputs": [],
   "source": [
    "plt.figure(figsize=(10,5))\n",
    "plt.scatter(data = data.sample(1500), x = 'mileage', y = 'price', c = 'registration_year',cmap='viridis',alpha=0.5)\n",
    "plt.colorbar();\n",
    "plt.xlim(0,500000)\n",
    "plt.ylim(0,100000)\n",
    "plt.xlabel('Mileage',fontsize=20);\n",
    "plt.ylabel('Price',fontsize=20);\n",
    "plt.title('Mileage vs Price vs Year',fontsize=20);"
   ]
  },
  {
   "cell_type": "markdown",
   "metadata": {},
   "source": [
    "# As expected newer cars have low mileage and hence a higher prices . Also By removing the xlim we see that there are very few model which are above 500,000 mileage and 100000 price range so I am thinking of removing them from the prediction model "
   ]
  },
  {
   "cell_type": "code",
   "execution_count": null,
   "metadata": {},
   "outputs": [],
   "source": [
    "plt.figure(figsize=(10,10))\n",
    "var=['mileage','engine_power','registration_year','price']\n",
    "sns.heatmap(data[var].corr(),annot=True,cmap='viridis');\n",
    "plt.xticks(fontsize=20,rotation=90);\n",
    "plt.yticks(fontsize=20,rotation=45);\n"
   ]
  },
  {
   "cell_type": "markdown",
   "metadata": {},
   "source": [
    "# We see that price variable has a decent correlation with the other quantitative variables shown above "
   ]
  },
  {
   "cell_type": "markdown",
   "metadata": {},
   "source": [
    "# Building a basic ANN model which takes into account only the 8 features into acount and avoiding everthing else .\n",
    "\n"
   ]
  },
  {
   "cell_type": "code",
   "execution_count": null,
   "metadata": {},
   "outputs": [],
   "source": [
    "# Fitting a neural network to only 8 boolean features \n",
    "\n",
    "# Importing the Keras libraries and packages\n",
    "import keras\n",
    "from keras.models import Sequential\n",
    "from keras.layers import Dense\n",
    "from keras import optimizers\n",
    "from sklearn.metrics import mean_squared_error,mean_absolute_error,explained_variance_score\n",
    "from sklearn.metrics import r2_score\n",
    "\n",
    "\n",
    "baseline=data[['feature_1','feature_2','feature_3','feature_4','feature_5','feature_6','feature_7','feature_8','price']]\n",
    "\n",
    "\n",
    "#Casting True/Fasle to 1/0 \n",
    "baseline['feature_1']=baseline['feature_1'].astype('int')\n",
    "baseline['feature_2']=baseline['feature_2'].astype('int')\n",
    "baseline['feature_3']=baseline['feature_3'].astype('int')\n",
    "baseline['feature_4']=baseline['feature_4'].astype('int')\n",
    "baseline['feature_5']=baseline['feature_5'].astype('int')\n",
    "baseline['feature_6']=baseline['feature_6'].astype('int')\n",
    "baseline['feature_7']=baseline['feature_7'].astype('int')\n",
    "baseline['feature_8']=baseline['feature_8'].astype('int')\n",
    "\n",
    "columns_names=baseline.columns\n",
    "\n",
    "\n",
    "#Scaling the dataframe \n",
    "\n",
    "sc = StandardScaler()\n",
    "baseline = sc.fit_transform(baseline[columns_names])\n",
    "\n",
    "\n",
    "#converting it back to dataframe \n",
    "baseline_scaled=pd.DataFrame(baseline,columns=columns_names)\n",
    "\n",
    "\n",
    "\n",
    "X=baseline_scaled.drop(['price'],axis=1).values\n",
    "y=baseline_scaled['price'].values.reshape(len(X),1)\n",
    "\n",
    "\n",
    "print(X.shape,y.shape)\n",
    "\n",
    "\n",
    "\n",
    "# Splitting the dataset into the Training set and Test set\n",
    "X_train, X_test, y_train, y_test = train_test_split(X, y, test_size = 0.3, random_state =42)"
   ]
  },
  {
   "cell_type": "code",
   "execution_count": null,
   "metadata": {},
   "outputs": [],
   "source": [
    "\n",
    "#Baseline Model1\n",
    "\n",
    "# Initialising the ANN\n",
    "model_baseline = Sequential()\n",
    "\n",
    "# Adding the input layer and the first hidden layer\n",
    "model_baseline.add(Dense(units = 5, kernel_initializer = 'he_normal', activation = 'relu', input_dim = X.shape[1]))\n",
    "\n",
    "# Adding the second hidden layer\n",
    "model_baseline.add(Dense(units = 5, kernel_initializer = 'he_normal', activation = 'relu'))\n",
    "\n",
    "\n",
    "# Adding the second hidden layer\n",
    "#model_baseline.add(Dense(units = 8, kernel_initializer = 'he_normal', activation = 'relu'))\n",
    "\n",
    "\n",
    "# Adding the output layer\n",
    "model_baseline.add(Dense(units = 1, kernel_initializer = 'he_normal', activation = 'linear'))\n",
    "\n",
    "# Compiling the ANN\n",
    "\n",
    "sgd = optimizers.SGD(lr=0.001, decay=1e-6, momentum=0.9, nesterov=True)\n",
    "model_baseline.compile(optimizer =sgd, loss = 'mean_squared_error',metrics=['MAE'])\n",
    "\n",
    "# Fitting the ANN to the Training set\n",
    "model_baseline.fit(X_train, y_train,validation_data=(X_test,y_test) , batch_size = 128, epochs = 500,verbose=0)\n",
    "\n",
    "\n",
    "\n",
    "predictions=model_baseline.predict(X_test)\n",
    "\n"
   ]
  },
  {
   "cell_type": "code",
   "execution_count": null,
   "metadata": {},
   "outputs": [],
   "source": [
    "model_baseline.summary()"
   ]
  },
  {
   "cell_type": "code",
   "execution_count": null,
   "metadata": {},
   "outputs": [],
   "source": [
    "print('Explained_varianve_score={}'.format( explained_variance_score(y_test,predictions)))\n",
    "print('R-squared={}'.format( r2_score(y_test,predictions)))"
   ]
  },
  {
   "cell_type": "code",
   "execution_count": null,
   "metadata": {},
   "outputs": [],
   "source": [
    "losses = pd.DataFrame(model_baseline.history.history)\n",
    "losses[['loss','val_loss']].plot()"
   ]
  },
  {
   "cell_type": "markdown",
   "metadata": {},
   "source": [
    "# Model 2 "
   ]
  },
  {
   "cell_type": "code",
   "execution_count": null,
   "metadata": {},
   "outputs": [],
   "source": [
    "\n",
    "# Model 2\n",
    "# I am selecting the features below for fitting the price model .\n",
    "# Dropping the fuel type as it is screwed towards the diseal fuel \n",
    "# Also dropping maker_key as its all BMW  and model_key as that is captured in car_type \n",
    "\n",
    "data=data[data.price<100000] # Removing price outliers \n",
    "data=data[data.mileage<400000] #Removing mileage outliers . In total 8 rows removed \n",
    "\n",
    "features=data[['mileage','engine_power','paint_color','car_type','feature_1','feature_2','feature_3','feature_4','feature_5','feature_6','feature_7','feature_8','price','vechile_days']]\n",
    "\n",
    "#Creating Dummy Variables \n",
    "features=pd.get_dummies(features,drop_first=True)\n",
    "\n",
    "\n",
    "features['vechile_days']=features['vechile_days'].astype('int')\n",
    "features['feature_1']=features['feature_1'].astype('int')\n",
    "features['feature_2']=features['feature_2'].astype('int')\n",
    "features['feature_3']=features['feature_3'].astype('int')\n",
    "features['feature_4']=features['feature_4'].astype('int')\n",
    "features['feature_5']=features['feature_5'].astype('int')\n",
    "features['feature_6']=features['feature_6'].astype('int')\n",
    "features['feature_7']=features['feature_7'].astype('int')\n",
    "features['feature_8']=features['feature_8'].astype('int')\n",
    "\n",
    "columns_names=features.columns\n",
    "\n",
    "sc = StandardScaler()\n",
    "features = sc.fit_transform(features[columns_names])\n",
    "\n",
    "#converting it back to dataframe \n",
    "features_scales=pd.DataFrame(features,columns=columns_names)\n",
    "\n",
    "\n",
    "X=features_scales.drop(['price'],axis=1).values\n",
    "y=features_scales['price'].values.reshape(len(X),1)\n",
    "\n",
    "\n",
    "\n",
    "# Splitting the dataset into the Training set and Test set\n",
    "X_train, X_test, y_train, y_test = train_test_split(X, y, test_size = 0.3, random_state =42)\n"
   ]
  },
  {
   "cell_type": "code",
   "execution_count": null,
   "metadata": {},
   "outputs": [],
   "source": [
    "print(X.shape,y.shape)"
   ]
  },
  {
   "cell_type": "code",
   "execution_count": null,
   "metadata": {},
   "outputs": [],
   "source": [
    "\n",
    "\n",
    "# Initialising the ANN\n",
    "model = Sequential()\n",
    "\n",
    "# Adding the input layer and the first hidden layer\n",
    "model.add(Dense(units = 12, kernel_initializer = 'he_normal', activation = 'relu', input_dim = X.shape[1]))\n",
    "\n",
    "# Adding the second hidden layer\n",
    "model.add(Dense(units = 12, kernel_initializer = 'he_normal', activation = 'relu'))\n",
    "\n",
    "# Adding the output layer\n",
    "model.add(Dense(units = 1, kernel_initializer = 'he_normal', activation = 'linear'))\n",
    "\n",
    "# Compiling the ANN\n",
    "\n",
    "sgd = optimizers.SGD(lr=0.001, decay=1e-6, momentum=0.9, nesterov=True)\n",
    "model.compile(optimizer =sgd, loss = 'mean_squared_error',metrics=['MAE'])\n",
    "\n",
    "# Fitting the ANN to the Training set\n",
    "model.fit(X_train, y_train,validation_data=(X_test,y_test) , batch_size = 128, epochs = 350,verbose=0)"
   ]
  },
  {
   "cell_type": "markdown",
   "metadata": {},
   "source": []
  },
  {
   "cell_type": "code",
   "execution_count": null,
   "metadata": {},
   "outputs": [],
   "source": [
    "model.summary()"
   ]
  },
  {
   "cell_type": "code",
   "execution_count": null,
   "metadata": {},
   "outputs": [],
   "source": [
    "\n",
    "predictions=model.predict(X_test)\n",
    "#print('Explained_varianve_score={}'.format( explained_variance_score(y_test,predictions)))\n",
    "print('R-squared={}'.format( r2_score(y_test,predictions)))\n"
   ]
  },
  {
   "cell_type": "code",
   "execution_count": null,
   "metadata": {},
   "outputs": [],
   "source": [
    "losses = pd.DataFrame(model.history.history)\n",
    "losses[['loss','val_loss']].plot()"
   ]
  },
  {
   "cell_type": "code",
   "execution_count": null,
   "metadata": {},
   "outputs": [],
   "source": [
    "#Saving weights for this model \n",
    "\n",
    "weights = model.get_weights()"
   ]
  },
  {
   "cell_type": "code",
   "execution_count": null,
   "metadata": {},
   "outputs": [],
   "source": [
    "errors = y_test - predictions\n",
    "sns.distplot(errors)"
   ]
  },
  {
   "cell_type": "markdown",
   "metadata": {},
   "source": []
  },
  {
   "cell_type": "code",
   "execution_count": null,
   "metadata": {},
   "outputs": [],
   "source": [
    "# Our predictions\n",
    "plt.figure(figsize=(8,8));\n",
    "plt.scatter(y_test,predictions,alpha=0.3);\n",
    "\n",
    "# Perfect predictions\n",
    "plt.plot(y_test,y_test,'r');"
   ]
  },
  {
   "cell_type": "markdown",
   "metadata": {},
   "source": [
    "# Conclusion from the dataset "
   ]
  },
  {
   "cell_type": "markdown",
   "metadata": {},
   "source": [
    "# How much impact does each of features have on the estimate value of the car?\n",
    "\n",
    "It very difficult to assign value of each individual feature but from the Model 1 ANN which takes into account the 8 boolean feature we where able to explain only 40% of the variance in price.  But the current model (Model 2) can capture 83% of variance in the model .So it would be safe to conclude that the 8 unknown boolean features can explain ~40% variation in price \n",
    "\n",
    "\n",
    "\n",
    "# How does the estimated value of a car change over time? Can you detect any patterns? (e.g. the price of a convertible should be higher in summer than in winter)\n",
    "\n",
    "Some of the patterns we could draw form the dataset are as follows \n",
    "\n",
    "* Diesel was the most common type of fuel in the cars which where sold \n",
    "* Even though the diesel car are more in number we see that hybrid_Petrol sell at a higher price followed by diesel \n",
    "* We see that color is not a big factor in determining the final price of the BMW sold .\n",
    "* Estate cars are more in numbers in the data set followed by Sedan . Looking the car type I feel this data might be collected in EMEA (Europe) region <br>\n",
    "* We see that SUV and coupe show higher median price over other types of cars \n",
    "* Most cars where purchased in 2013 and 2014 and sold/acutioned off in 2018 \n",
    "* SUV command a higher price in each year \n",
    "* Most cars have engine between 100 and 150 HP.Overall engine range is from 0-450HP \n",
    "* For a similar mileage value SUV command a higher price over other models \n",
    "* We see that the range of price variable is pretty large but most of the cars sold lie between 10,000 to 19000 price range \n",
    "* Inter quartile for mileage is 100,000 to 175,000\n",
    "* Sedans where most earlier car registered followed by estats and SUV but of late not many sedans are being registered \n",
    "\n",
    "\n",
    "\n",
    "\n",
    "# How big is the influence of the factors not represented in the data on the price? Or, in other words, what is the estimated variance included in your statistical model?\n",
    "\n",
    "The statistical model created above has a R-square value of 83% that is it explains 83% of the variance in the model . The other features which are not captured in the dataset controls the other 17%. The R-squared value of the model fluctuates depending on where it lands up after 350 iteration but most of the time it fluctuates between 80-83% R squared value . "
   ]
  },
  {
   "cell_type": "code",
   "execution_count": null,
   "metadata": {},
   "outputs": [],
   "source": []
  }
 ],
 "metadata": {
  "kernelspec": {
   "display_name": "Python 3",
   "language": "python",
   "name": "python3"
  },
  "language_info": {
   "codemirror_mode": {
    "name": "ipython",
    "version": 3
   },
   "file_extension": ".py",
   "mimetype": "text/x-python",
   "name": "python",
   "nbconvert_exporter": "python",
   "pygments_lexer": "ipython3",
   "version": "3.7.3"
  }
 },
 "nbformat": 4,
 "nbformat_minor": 4
}
